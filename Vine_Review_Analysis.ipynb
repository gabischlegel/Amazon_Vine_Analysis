{
  "nbformat": 4,
  "nbformat_minor": 0,
  "metadata": {
    "colab": {
      "provenance": [],
      "authorship_tag": "ABX9TyOR1RFALtx1ahz0dpdpvK8A",
      "include_colab_link": true
    },
    "kernelspec": {
      "name": "python3",
      "display_name": "Python 3"
    },
    "language_info": {
      "name": "python"
    }
  },
  "cells": [
    {
      "cell_type": "markdown",
      "metadata": {
        "id": "view-in-github",
        "colab_type": "text"
      },
      "source": [
        "<a href=\"https://colab.research.google.com/github/gabischlegel/Amazon_Vine_Analysis/blob/main/Vine_Review_Analysis.ipynb\" target=\"_parent\"><img src=\"https://colab.research.google.com/assets/colab-badge.svg\" alt=\"Open In Colab\"/></a>"
      ]
    },
    {
      "cell_type": "code",
      "execution_count": null,
      "metadata": {
        "id": "ss0dPZCskjld"
      },
      "outputs": [],
      "source": []
    },
    {
      "cell_type": "code",
      "execution_count": 1,
      "metadata": {
        "colab": {
          "base_uri": "https://localhost:8080/"
        },
        "id": "_XRY11VE8dd1",
        "outputId": "07a967b2-c320-4ae0-ab0f-555434028e00"
      },
      "outputs": [
        {
          "output_type": "stream",
          "name": "stdout",
          "text": [
            "\r0% [Working]\r            \rIgn:1 https://developer.download.nvidia.com/compute/machine-learning/repos/ubuntu1804/x86_64  InRelease\n",
            "\r0% [Waiting for headers] [Connecting to security.ubuntu.com (185.125.190.39)] [\r                                                                               \rGet:2 https://cloud.r-project.org/bin/linux/ubuntu bionic-cran40/ InRelease [3,626 B]\n",
            "\r0% [Waiting for headers] [Connecting to security.ubuntu.com (185.125.190.39)] [\r0% [Waiting for headers] [Connecting to security.ubuntu.com (185.125.190.39)] [\r                                                                               \rGet:3 https://developer.download.nvidia.com/compute/cuda/repos/ubuntu1804/x86_64  InRelease [1,581 B]\n",
            "\r0% [Waiting for headers] [Connecting to security.ubuntu.com (185.125.190.39)] [\r0% [2 InRelease gpgv 3,626 B] [Waiting for headers] [Connecting to security.ubu\r                                                                               \rHit:4 https://developer.download.nvidia.com/compute/machine-learning/repos/ubuntu1804/x86_64  Release\n",
            "Hit:5 http://archive.ubuntu.com/ubuntu bionic InRelease\n",
            "Get:6 http://archive.ubuntu.com/ubuntu bionic-updates InRelease [88.7 kB]\n",
            "Get:7 http://security.ubuntu.com/ubuntu bionic-security InRelease [88.7 kB]\n",
            "Hit:8 http://ppa.launchpad.net/c2d4u.team/c2d4u4.0+/ubuntu bionic InRelease\n",
            "Get:9 http://archive.ubuntu.com/ubuntu bionic-backports InRelease [83.3 kB]\n",
            "Get:10 https://developer.download.nvidia.com/compute/cuda/repos/ubuntu1804/x86_64  Packages [1,038 kB]\n",
            "Hit:11 http://ppa.launchpad.net/cran/libgit2/ubuntu bionic InRelease\n",
            "Hit:13 http://ppa.launchpad.net/deadsnakes/ppa/ubuntu bionic InRelease\n",
            "Get:14 http://ppa.launchpad.net/graphics-drivers/ppa/ubuntu bionic InRelease [21.3 kB]\n",
            "Get:15 http://archive.ubuntu.com/ubuntu bionic-updates/restricted amd64 Packages [1,303 kB]\n",
            "Get:16 http://archive.ubuntu.com/ubuntu bionic-updates/main amd64 Packages [3,497 kB]\n",
            "Get:17 http://archive.ubuntu.com/ubuntu bionic-updates/universe amd64 Packages [2,338 kB]\n",
            "Get:18 http://security.ubuntu.com/ubuntu bionic-security/main amd64 Packages [3,071 kB]\n",
            "Get:19 http://security.ubuntu.com/ubuntu bionic-security/universe amd64 Packages [1,563 kB]\n",
            "Get:20 http://security.ubuntu.com/ubuntu bionic-security/restricted amd64 Packages [1,262 kB]\n",
            "Get:21 http://ppa.launchpad.net/graphics-drivers/ppa/ubuntu bionic/main amd64 Packages [38.5 kB]\n",
            "Fetched 14.4 MB in 5s (2,960 kB/s)\n",
            "Reading package lists... Done\n"
          ]
        }
      ],
      "source": [
        "import os\n",
        "# Find the latest version of spark 3.0  from http://www.apache.org/dist/spark/ and enter as the spark version\n",
        "# For example:\n",
        "# spark_version = 'spark-3.0.3'\n",
        "spark_version = 'spark-3.2.3'\n",
        "os.environ['SPARK_VERSION']=spark_version\n",
        "\n",
        "# Install Spark and Java\n",
        "!apt-get update\n",
        "!apt-get install openjdk-11-jdk-headless -qq > /dev/null\n",
        "!wget -q http://www.apache.org/dist/spark/$SPARK_VERSION/$SPARK_VERSION-bin-hadoop2.7.tgz\n",
        "!tar xf $SPARK_VERSION-bin-hadoop2.7.tgz\n",
        "!pip install -q findspark\n",
        "\n",
        "# Set Environment Variables\n",
        "import os\n",
        "os.environ[\"JAVA_HOME\"] = \"/usr/lib/jvm/java-11-openjdk-amd64\"\n",
        "os.environ[\"SPARK_HOME\"] = f\"/content/{spark_version}-bin-hadoop2.7\"\n",
        "\n",
        "# Start a SparkSession\n",
        "import findspark\n",
        "findspark.init()"
      ]
    },
    {
      "cell_type": "code",
      "metadata": {
        "id": "_xKwTpATHqSe",
        "colab": {
          "base_uri": "https://localhost:8080/"
        },
        "outputId": "0b38d85f-2853-4818-8e27-26611b8e3812"
      },
      "source": [
        "# Download the Postgres driver that will allow Spark to interact with Postgres.\n",
        "!wget https://jdbc.postgresql.org/download/postgresql-42.2.16.jar"
      ],
      "execution_count": 2,
      "outputs": [
        {
          "output_type": "stream",
          "name": "stdout",
          "text": [
            "--2022-11-30 01:24:41--  https://jdbc.postgresql.org/download/postgresql-42.2.16.jar\n",
            "Resolving jdbc.postgresql.org (jdbc.postgresql.org)... 72.32.157.228, 2001:4800:3e1:1::228\n",
            "Connecting to jdbc.postgresql.org (jdbc.postgresql.org)|72.32.157.228|:443... connected.\n",
            "HTTP request sent, awaiting response... 200 OK\n",
            "Length: 1002883 (979K) [application/java-archive]\n",
            "Saving to: ‘postgresql-42.2.16.jar’\n",
            "\n",
            "postgresql-42.2.16. 100%[===================>] 979.38K  5.96MB/s    in 0.2s    \n",
            "\n",
            "2022-11-30 01:24:42 (5.96 MB/s) - ‘postgresql-42.2.16.jar’ saved [1002883/1002883]\n",
            "\n"
          ]
        }
      ]
    },
    {
      "cell_type": "code",
      "metadata": {
        "id": "MMqDAjVS0KN9"
      },
      "source": [
        "from pyspark.sql import SparkSession\n",
        "spark = SparkSession.builder.appName(\"M16-Amazon-Challenge\").config(\"spark.driver.extraClassPath\",\"/content/postgresql-42.2.16.jar\").getOrCreate()"
      ],
      "execution_count": 3,
      "outputs": []
    },
    {
      "cell_type": "code",
      "source": [
        "from pyspark import SparkFiles\n",
        "url = \"https://s3.amazonaws.com/amazon-reviews-pds/tsv/amazon_reviews_us_Watches_v1_00.tsv.gz\"\n",
        "spark.sparkContext.addFile(url)\n",
        "df = spark.read.option(\"encoding\", \"UTF-8\").csv(SparkFiles.get(\"\"), sep=\"\\t\", header=True, inferSchema=True)\n",
        "df.show()"
      ],
      "metadata": {
        "colab": {
          "base_uri": "https://localhost:8080/"
        },
        "id": "BElV_rwllFRo",
        "outputId": "61a336c3-54df-44e6-faf3-eeb8e889d661"
      },
      "execution_count": 4,
      "outputs": [
        {
          "output_type": "stream",
          "name": "stdout",
          "text": [
            "+-----------+-----------+--------------+----------+--------------+--------------------+----------------+-----------+-------------+-----------+----+-----------------+--------------------+--------------------+-----------+\n",
            "|marketplace|customer_id|     review_id|product_id|product_parent|       product_title|product_category|star_rating|helpful_votes|total_votes|vine|verified_purchase|     review_headline|         review_body|review_date|\n",
            "+-----------+-----------+--------------+----------+--------------+--------------------+----------------+-----------+-------------+-----------+----+-----------------+--------------------+--------------------+-----------+\n",
            "|         US|    3653882|R3O9SGZBVQBV76|B00FALQ1ZC|     937001370|Invicta Women's 1...|         Watches|          5|            0|          0|   N|                Y|          Five Stars|Absolutely love t...| 2015-08-31|\n",
            "|         US|   14661224| RKH8BNC3L5DLF|B00D3RGO20|     484010722|Kenneth Cole New ...|         Watches|          5|            0|          0|   N|                Y|I love thiswatch ...|I love this watch...| 2015-08-31|\n",
            "|         US|   27324930|R2HLE8WKZSU3NL|B00DKYC7TK|     361166390|Ritche 22mm Black...|         Watches|          2|            1|          1|   N|                Y|           Two Stars|           Scratches| 2015-08-31|\n",
            "|         US|    7211452|R31U3UH5AZ42LL|B000EQS1JW|     958035625|Citizen Men's BM8...|         Watches|          5|            0|          0|   N|                Y|          Five Stars|It works well on ...| 2015-08-31|\n",
            "|         US|   12733322|R2SV659OUJ945Y|B00A6GFD7S|     765328221|Orient ER27009B M...|         Watches|          4|            0|          0|   N|                Y|Beautiful face, b...|Beautiful watch f...| 2015-08-31|\n",
            "|         US|    6576411| RA51CP8TR5A2L|B00EYSOSE8|     230493695|Casio Men's GW-94...|         Watches|          5|            0|          0|   N|                Y|       No complaints|i love this watch...| 2015-08-31|\n",
            "|         US|   11811565| RB2Q7DLDN6TH6|B00WM0QA3M|     549298279|Fossil Women's ES...|         Watches|          5|            1|          1|   N|                Y|          Five Stars|for my wife and s...| 2015-08-31|\n",
            "|         US|   49401598|R2RHFJV0UYBK3Y|B00A4EYBR0|     844009113|INFANTRY Mens Nig...|         Watches|          1|            1|          5|   N|                N|I was about to bu...|I was about to bu...| 2015-08-31|\n",
            "|         US|   45925069|R2Z6JOQ94LFHEP|B00MAMPGGE|     263720892|G-Shock Men's Gre...|         Watches|          5|            1|          2|   N|                Y|      Perfect watch!|Watch is perfect....| 2015-08-31|\n",
            "|         US|   44751341| RX27XIIWY5JPB|B004LBPB7Q|     124278407|Heiden Quad Watch...|         Watches|          4|            0|          0|   N|                Y|Great quality and...|Great quality and...| 2015-08-31|\n",
            "|         US|    9962330|R15C7QEZT0LGZN|B00KGTVGKS|      28017857|Fossil Women's ES...|         Watches|          4|            2|          2|   N|                Y|           Satisfied|The watch was pre...| 2015-08-31|\n",
            "|         US|   16097204|R361XSS37V0NCZ|B0039UT5OU|     685450910|Casio General Men...|         Watches|          1|            0|          0|   N|                N|I do not think th...|I bought this wat...| 2015-08-31|\n",
            "|         US|   51330346| ROTNLALUAJAUB|B00MPF0XJQ|     767769082|2Tone Gold Silver...|         Watches|          3|            0|          0|   N|                Y|         Three Stars|It is a cheap wat...| 2015-08-31|\n",
            "|         US|    4201739|R2DYX7QU6BGOHR|B003P1OHHS|     648595227|Bulova Men's 98B1...|         Watches|          5|            0|          0|   N|                Y|          Five Stars|Heavier than i th...| 2015-08-31|\n",
            "|         US|   26339765| RWASY7FKI7QOT|B00R70YEOE|     457338020|Casio - G-Shock -...|         Watches|          5|            2|          3|   N|                Y|  Worth it - love it|Had it for severa...| 2015-08-31|\n",
            "|         US|    2692576|R2KKYZIN3CCL21|B000FVE3BG|     824370661|Invicta Men's 332...|         Watches|          5|            0|          0|   N|                Y|This is when diff...|This one is diffe...| 2015-08-31|\n",
            "|         US|   44713366|R22H4FGVD5O52O|B008X6JB12|     814431355|Seiko Women's SUT...|         Watches|          4|            1|          1|   N|                Y|Thewatch is attra...|The watch is attr...| 2015-08-31|\n",
            "|         US|   32778769|R11UACZERCM4ZY|B0040UOFPW|     187700878|Anne Klein Women'...|         Watches|          5|            0|          0|   N|                Y|          Five Stars|      said my wife..| 2015-08-31|\n",
            "|         US|   27258523|R1AT8NQ38UQOL6|B00UR2R5UY|     594315262|Guess U13630G1 Me...|         Watches|          5|            0|          0|   N|                Y|          Five Stars|Nice watch, on ti...| 2015-08-31|\n",
            "|         US|   42646538|R2NCZRQGIF1Q75|B00HFF57L0|     520810507|Nixon Men's Geo V...|         Watches|          4|            0|          0|   N|                Y|        Very stylish|Looks great and l...| 2015-08-31|\n",
            "+-----------+-----------+--------------+----------+--------------+--------------------+----------------+-----------+-------------+-----------+----+-----------------+--------------------+--------------------+-----------+\n",
            "only showing top 20 rows\n",
            "\n"
          ]
        }
      ]
    },
    {
      "cell_type": "code",
      "source": [
        "# Create the vine_table. DataFrame\n",
        "vine_df = df.select([\"review_id\", \"star_rating\", \"helpful_votes\", \"total_votes\", \"vine\", \"verified_purchase\"])\n",
        "vine_df.show()"
      ],
      "metadata": {
        "colab": {
          "base_uri": "https://localhost:8080/"
        },
        "id": "pg6T6eRulLFu",
        "outputId": "d46f1546-60c9-43c8-b466-4e1265e8c7a2"
      },
      "execution_count": 5,
      "outputs": [
        {
          "output_type": "stream",
          "name": "stdout",
          "text": [
            "+--------------+-----------+-------------+-----------+----+-----------------+\n",
            "|     review_id|star_rating|helpful_votes|total_votes|vine|verified_purchase|\n",
            "+--------------+-----------+-------------+-----------+----+-----------------+\n",
            "|R3O9SGZBVQBV76|          5|            0|          0|   N|                Y|\n",
            "| RKH8BNC3L5DLF|          5|            0|          0|   N|                Y|\n",
            "|R2HLE8WKZSU3NL|          2|            1|          1|   N|                Y|\n",
            "|R31U3UH5AZ42LL|          5|            0|          0|   N|                Y|\n",
            "|R2SV659OUJ945Y|          4|            0|          0|   N|                Y|\n",
            "| RA51CP8TR5A2L|          5|            0|          0|   N|                Y|\n",
            "| RB2Q7DLDN6TH6|          5|            1|          1|   N|                Y|\n",
            "|R2RHFJV0UYBK3Y|          1|            1|          5|   N|                N|\n",
            "|R2Z6JOQ94LFHEP|          5|            1|          2|   N|                Y|\n",
            "| RX27XIIWY5JPB|          4|            0|          0|   N|                Y|\n",
            "|R15C7QEZT0LGZN|          4|            2|          2|   N|                Y|\n",
            "|R361XSS37V0NCZ|          1|            0|          0|   N|                N|\n",
            "| ROTNLALUAJAUB|          3|            0|          0|   N|                Y|\n",
            "|R2DYX7QU6BGOHR|          5|            0|          0|   N|                Y|\n",
            "| RWASY7FKI7QOT|          5|            2|          3|   N|                Y|\n",
            "|R2KKYZIN3CCL21|          5|            0|          0|   N|                Y|\n",
            "|R22H4FGVD5O52O|          4|            1|          1|   N|                Y|\n",
            "|R11UACZERCM4ZY|          5|            0|          0|   N|                Y|\n",
            "|R1AT8NQ38UQOL6|          5|            0|          0|   N|                Y|\n",
            "|R2NCZRQGIF1Q75|          4|            0|          0|   N|                Y|\n",
            "+--------------+-----------+-------------+-----------+----+-----------------+\n",
            "only showing top 20 rows\n",
            "\n"
          ]
        }
      ]
    },
    {
      "cell_type": "code",
      "source": [
        "# Create a new DataFrame or table to retrieve all the rows where the total_votes count is equal to or greater than 20 to pick reviews that are more likely to be helpful and to avoid having division by zero errors later on.\n",
        "total_votes_df = vine_df.filter(\"total_votes>20\")\n",
        "total_votes_df.show()"
      ],
      "metadata": {
        "colab": {
          "base_uri": "https://localhost:8080/"
        },
        "id": "MeEPgAT0ljgr",
        "outputId": "0a77b211-22e4-4838-a3f2-e1ebef2e860f"
      },
      "execution_count": 6,
      "outputs": [
        {
          "output_type": "stream",
          "name": "stdout",
          "text": [
            "+--------------+-----------+-------------+-----------+----+-----------------+\n",
            "|     review_id|star_rating|helpful_votes|total_votes|vine|verified_purchase|\n",
            "+--------------+-----------+-------------+-----------+----+-----------------+\n",
            "|R1BTWIBLYYVOV7|          5|           30|         30|   N|                Y|\n",
            "| R6F9VY91ADPLA|          1|            8|         30|   N|                N|\n",
            "|R3PXNV89DFIXKV|          5|           35|         37|   N|                Y|\n",
            "|R2ZF9NYVT3J7D6|          5|           19|         22|   N|                Y|\n",
            "|R20NYA5V0UF9NE|          5|           27|         28|   N|                Y|\n",
            "|R2X8FZRUOS8R8C|          4|           25|         26|   N|                Y|\n",
            "|R25UD9TA63L3Q8|          5|           25|         27|   N|                Y|\n",
            "|R2RB1HML8N712P|          5|           26|         28|   N|                Y|\n",
            "| ROXA8XP5EI2KK|          5|           48|         49|   N|                N|\n",
            "|R1B7M0OP3UNP6O|          5|           49|         52|   Y|                N|\n",
            "|R2N92CUM7WBA1A|          5|           27|         28|   N|                Y|\n",
            "|R2TAFZNG4KHFQB|          4|           24|         24|   N|                Y|\n",
            "| RNRFACS48ZE4A|          5|           21|         21|   N|                Y|\n",
            "|R2PO5QTLXJ9LHG|          5|           33|         46|   N|                N|\n",
            "|R38KDT041DRMIN|          5|           19|         24|   N|                Y|\n",
            "|R3F3KMKY26K620|          4|           25|         26|   N|                Y|\n",
            "|R2PU32HT6X9DOM|          5|           23|         24|   N|                Y|\n",
            "|R1E96GHLGQ5H9D|          5|           22|         22|   N|                Y|\n",
            "| R86ZSHA6GWWQL|          1|            8|         28|   N|                N|\n",
            "|R33BKAVFS3HJ97|          5|           22|         23|   N|                N|\n",
            "+--------------+-----------+-------------+-----------+----+-----------------+\n",
            "only showing top 20 rows\n",
            "\n"
          ]
        }
      ]
    },
    {
      "cell_type": "code",
      "source": [
        "# Filter the new DataFrame or table created in Step 1 and create a new DataFrame or table to retrieve all the rows where the number of helpful_votes divided by total_votes is equal to or greater than 50%.\n",
        "greater_50_df = total_votes_df.filter((total_votes_df.helpful_votes / total_votes_df.total_votes) >= 0.5)\n",
        "greater_50_df.show()"
      ],
      "metadata": {
        "colab": {
          "base_uri": "https://localhost:8080/"
        },
        "id": "6gHy6NWPHFU1",
        "outputId": "89275c53-1a30-4651-fda4-07946b7542fd"
      },
      "execution_count": 7,
      "outputs": [
        {
          "output_type": "stream",
          "name": "stdout",
          "text": [
            "+--------------+-----------+-------------+-----------+----+-----------------+\n",
            "|     review_id|star_rating|helpful_votes|total_votes|vine|verified_purchase|\n",
            "+--------------+-----------+-------------+-----------+----+-----------------+\n",
            "|R1BTWIBLYYVOV7|          5|           30|         30|   N|                Y|\n",
            "|R3PXNV89DFIXKV|          5|           35|         37|   N|                Y|\n",
            "|R2ZF9NYVT3J7D6|          5|           19|         22|   N|                Y|\n",
            "|R20NYA5V0UF9NE|          5|           27|         28|   N|                Y|\n",
            "|R2X8FZRUOS8R8C|          4|           25|         26|   N|                Y|\n",
            "|R25UD9TA63L3Q8|          5|           25|         27|   N|                Y|\n",
            "|R2RB1HML8N712P|          5|           26|         28|   N|                Y|\n",
            "| ROXA8XP5EI2KK|          5|           48|         49|   N|                N|\n",
            "|R1B7M0OP3UNP6O|          5|           49|         52|   Y|                N|\n",
            "|R2N92CUM7WBA1A|          5|           27|         28|   N|                Y|\n",
            "|R2TAFZNG4KHFQB|          4|           24|         24|   N|                Y|\n",
            "| RNRFACS48ZE4A|          5|           21|         21|   N|                Y|\n",
            "|R2PO5QTLXJ9LHG|          5|           33|         46|   N|                N|\n",
            "|R38KDT041DRMIN|          5|           19|         24|   N|                Y|\n",
            "|R3F3KMKY26K620|          4|           25|         26|   N|                Y|\n",
            "|R2PU32HT6X9DOM|          5|           23|         24|   N|                Y|\n",
            "|R1E96GHLGQ5H9D|          5|           22|         22|   N|                Y|\n",
            "|R33BKAVFS3HJ97|          5|           22|         23|   N|                N|\n",
            "|R32EUTQ34MNG1W|          1|           26|         32|   N|                Y|\n",
            "| RDOUTLIOKLLR1|          1|           33|         37|   N|                Y|\n",
            "+--------------+-----------+-------------+-----------+----+-----------------+\n",
            "only showing top 20 rows\n",
            "\n"
          ]
        }
      ]
    },
    {
      "cell_type": "code",
      "source": [
        "# Filter the DataFrame or table created in Step 2, and create a new DataFrame or table that retrieves all the rows where a review was written as part of the Vine program (paid)\n",
        "yes_df = greater_50_df[greater_50_df['vine'] == 'Y']\n",
        "yes_df.show()"
      ],
      "metadata": {
        "colab": {
          "base_uri": "https://localhost:8080/"
        },
        "id": "afZK0F0dHGve",
        "outputId": "8f975de5-8ec3-4d83-f7fa-e4edbfee74a1"
      },
      "execution_count": 8,
      "outputs": [
        {
          "output_type": "stream",
          "name": "stdout",
          "text": [
            "+--------------+-----------+-------------+-----------+----+-----------------+\n",
            "|     review_id|star_rating|helpful_votes|total_votes|vine|verified_purchase|\n",
            "+--------------+-----------+-------------+-----------+----+-----------------+\n",
            "|R1B7M0OP3UNP6O|          5|           49|         52|   Y|                N|\n",
            "|R2UUV4UGGYMQG8|          5|           34|         39|   Y|                N|\n",
            "| R9K0LZV2BK9YY|          4|           37|         39|   Y|                N|\n",
            "|R2OVFLNEUEGTJM|          3|           18|         25|   Y|                N|\n",
            "| RBE09ELJ77LQ0|          5|           44|         45|   Y|                N|\n",
            "|R3867T8AIJJHM6|          5|           26|         27|   Y|                N|\n",
            "|R1FNVUXPU63WOZ|          4|           43|         48|   Y|                N|\n",
            "|R25XGG2G12SE1Z|          4|           20|         23|   Y|                N|\n",
            "| R3JKU4HRDFZDH|          4|           27|         30|   Y|                N|\n",
            "|R2PQYOCJXRB1BF|          5|           26|         28|   Y|                N|\n",
            "|R1JBQ8UBLA8N4X|          4|          349|        370|   Y|                N|\n",
            "|R2I01ZYMO0GYP1|          4|          107|        121|   Y|                N|\n",
            "|R297GF8EF7AXPO|          2|           22|         30|   Y|                N|\n",
            "|R2OFG89WKPLHGU|          5|           54|         60|   Y|                N|\n",
            "|R13PI8O4697CEV|          4|          135|        144|   Y|                N|\n",
            "|R223MX62JYWUOY|          4|           20|         21|   Y|                N|\n",
            "| RTSXZ0HZF623M|          3|           13|         22|   Y|                N|\n",
            "|R1OB4GCKEYGV9I|          4|           61|         90|   Y|                N|\n",
            "|R3L4Z6NK2Z4OV5|          2|           24|         33|   Y|                N|\n",
            "|R3LRMV7GANS3MX|          3|           40|         50|   Y|                N|\n",
            "+--------------+-----------+-------------+-----------+----+-----------------+\n",
            "only showing top 20 rows\n",
            "\n"
          ]
        }
      ]
    },
    {
      "cell_type": "code",
      "source": [
        "no_df = greater_50_df[greater_50_df['vine'] == 'N']\n",
        "no_df.show()"
      ],
      "metadata": {
        "colab": {
          "base_uri": "https://localhost:8080/"
        },
        "id": "nyJliCUOJIou",
        "outputId": "196faa0d-8ad6-4482-e032-dfe450a82764"
      },
      "execution_count": 9,
      "outputs": [
        {
          "output_type": "stream",
          "name": "stdout",
          "text": [
            "+--------------+-----------+-------------+-----------+----+-----------------+\n",
            "|     review_id|star_rating|helpful_votes|total_votes|vine|verified_purchase|\n",
            "+--------------+-----------+-------------+-----------+----+-----------------+\n",
            "|R1BTWIBLYYVOV7|          5|           30|         30|   N|                Y|\n",
            "|R3PXNV89DFIXKV|          5|           35|         37|   N|                Y|\n",
            "|R2ZF9NYVT3J7D6|          5|           19|         22|   N|                Y|\n",
            "|R20NYA5V0UF9NE|          5|           27|         28|   N|                Y|\n",
            "|R2X8FZRUOS8R8C|          4|           25|         26|   N|                Y|\n",
            "|R25UD9TA63L3Q8|          5|           25|         27|   N|                Y|\n",
            "|R2RB1HML8N712P|          5|           26|         28|   N|                Y|\n",
            "| ROXA8XP5EI2KK|          5|           48|         49|   N|                N|\n",
            "|R2N92CUM7WBA1A|          5|           27|         28|   N|                Y|\n",
            "|R2TAFZNG4KHFQB|          4|           24|         24|   N|                Y|\n",
            "| RNRFACS48ZE4A|          5|           21|         21|   N|                Y|\n",
            "|R2PO5QTLXJ9LHG|          5|           33|         46|   N|                N|\n",
            "|R38KDT041DRMIN|          5|           19|         24|   N|                Y|\n",
            "|R3F3KMKY26K620|          4|           25|         26|   N|                Y|\n",
            "|R2PU32HT6X9DOM|          5|           23|         24|   N|                Y|\n",
            "|R1E96GHLGQ5H9D|          5|           22|         22|   N|                Y|\n",
            "|R33BKAVFS3HJ97|          5|           22|         23|   N|                N|\n",
            "|R32EUTQ34MNG1W|          1|           26|         32|   N|                Y|\n",
            "| RDOUTLIOKLLR1|          1|           33|         37|   N|                Y|\n",
            "| R3BFHNMC7PBKS|          5|           26|         28|   N|                Y|\n",
            "+--------------+-----------+-------------+-----------+----+-----------------+\n",
            "only showing top 20 rows\n",
            "\n"
          ]
        }
      ]
    },
    {
      "cell_type": "code",
      "source": [
        "# Determine total number of reviews for paid\n",
        "total_paid_reviews = yes_df.count()\n",
        "total_paid_reviews"
      ],
      "metadata": {
        "colab": {
          "base_uri": "https://localhost:8080/"
        },
        "id": "S4LseDOoJPqZ",
        "outputId": "4081b36b-b3c1-4310-e85e-b389a0bac52b"
      },
      "execution_count": 10,
      "outputs": [
        {
          "output_type": "execute_result",
          "data": {
            "text/plain": [
              "43"
            ]
          },
          "metadata": {},
          "execution_count": 10
        }
      ]
    },
    {
      "cell_type": "code",
      "source": [
        "# Determine total number of reviews for unpaid\n",
        "total_unpaid_reviews = no_df.count()\n",
        "total_unpaid_reviews"
      ],
      "metadata": {
        "colab": {
          "base_uri": "https://localhost:8080/"
        },
        "id": "YZ3b923aKJDS",
        "outputId": "642e331e-d3d6-4baf-fd22-31afcb52cad7"
      },
      "execution_count": 11,
      "outputs": [
        {
          "output_type": "execute_result",
          "data": {
            "text/plain": [
              "7750"
            ]
          },
          "metadata": {},
          "execution_count": 11
        }
      ]
    },
    {
      "cell_type": "code",
      "source": [
        "# Determine total number of 5 star reviews for paid\n",
        "paid_five_star_reviews = yes_df.filter(yes_df.star_rating == 5).count()\n",
        "paid_five_star_reviews"
      ],
      "metadata": {
        "colab": {
          "base_uri": "https://localhost:8080/"
        },
        "id": "PedINfLQKLX2",
        "outputId": "a982288f-b080-4a36-ef42-e5b234f5cd85"
      },
      "execution_count": 12,
      "outputs": [
        {
          "output_type": "execute_result",
          "data": {
            "text/plain": [
              "14"
            ]
          },
          "metadata": {},
          "execution_count": 12
        }
      ]
    },
    {
      "cell_type": "code",
      "source": [
        "# Determine total number of 5 star reviews for unpaid\n",
        "unpaid_five_star_reviews = no_df.filter(no_df.star_rating == 5).count()\n",
        "unpaid_five_star_reviews"
      ],
      "metadata": {
        "colab": {
          "base_uri": "https://localhost:8080/"
        },
        "id": "RzfL2H4JKOnh",
        "outputId": "2f36fd6d-fd37-4a6c-cdee-c69e93302e1a"
      },
      "execution_count": 13,
      "outputs": [
        {
          "output_type": "execute_result",
          "data": {
            "text/plain": [
              "4027"
            ]
          },
          "metadata": {},
          "execution_count": 13
        }
      ]
    },
    {
      "cell_type": "code",
      "source": [
        "# Determine percentage of 5 star reviews for paid\n",
        "paid_five_star_percentage = (paid_five_star_reviews / total_paid_reviews)*100\n",
        "paid_five_star_percentage\n"
      ],
      "metadata": {
        "colab": {
          "base_uri": "https://localhost:8080/"
        },
        "id": "cAj0fLMEKRC-",
        "outputId": "226b1876-0c8a-4090-c305-10110ebd9289"
      },
      "execution_count": 16,
      "outputs": [
        {
          "output_type": "execute_result",
          "data": {
            "text/plain": [
              "32.55813953488372"
            ]
          },
          "metadata": {},
          "execution_count": 16
        }
      ]
    },
    {
      "cell_type": "code",
      "source": [
        "# Determine percentage of 5 star reviews for unpaid\n",
        "unpaid_five_star_percentage = (unpaid_five_star_reviews / total_unpaid_reviews)*100\n",
        "unpaid_five_star_percentage\n"
      ],
      "metadata": {
        "colab": {
          "base_uri": "https://localhost:8080/"
        },
        "id": "jh-Rs2XNKVtx",
        "outputId": "e62dfcfd-c7bd-4c4d-b756-93a70fc2e560"
      },
      "execution_count": 18,
      "outputs": [
        {
          "output_type": "execute_result",
          "data": {
            "text/plain": [
              "51.961290322580645"
            ]
          },
          "metadata": {},
          "execution_count": 18
        }
      ]
    }
  ]
}